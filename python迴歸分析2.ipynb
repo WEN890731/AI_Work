{
 "cells": [
  {
   "cell_type": "code",
   "execution_count": 1,
   "metadata": {},
   "outputs": [],
   "source": [
    "import numpy as np\n",
    "import statsmodels.api as sm\n",
    "import pandas as pd\n",
    "import seaborn as sns"
   ]
  },
  {
   "cell_type": "code",
   "execution_count": 2,
   "metadata": {},
   "outputs": [
    {
     "name": "stdout",
     "output_type": "stream",
     "text": [
      "Parameters:  const   -3.138636e+06\n",
      "X1       1.595634e-01\n",
      "X2       2.013211e+01\n",
      "X3       1.070515e+04\n",
      "dtype: float64\n"
     ]
    },
    {
     "name": "stderr",
     "output_type": "stream",
     "text": [
      "/Users/wenruiling/opt/anaconda3/lib/python3.7/site-packages/numpy/core/fromnumeric.py:2495: FutureWarning: Method .ptp is deprecated and will be removed in a future version. Use numpy.ptp instead.\n",
      "  return ptp(axis=axis, out=out, **kwargs)\n"
     ]
    }
   ],
   "source": [
    "#多元模型与最小平方估計\n",
    "df=pd.read_csv('./第四章例题数据/energy.txt',sep='\\t') \n",
    "features = [\"X1\",\"X2\",\"X3\"]\n",
    "labels = [\"y\"]\n",
    "y=df[labels]\n",
    "X = sm.add_constant(df[features])\n",
    "\n",
    "model = sm.OLS(y, X)\n",
    "result = model.fit()\n",
    "\n",
    "print('Parameters: ', result.params)"
   ]
  },
  {
   "cell_type": "code",
   "execution_count": 3,
   "metadata": {},
   "outputs": [
    {
     "data": {
      "text/plain": [
       "array([ 21394.85206288,  19402.2950939 ,   1700.31286883, -11657.5673357 ,\n",
       "        -2318.34798496,  -6679.41968905, -15459.07553503, -23086.97601238,\n",
       "        -7278.1380462 , -17229.76988838,  -7734.40785748,   1199.33708813,\n",
       "         6650.0932928 ,   7192.29212045,  42951.70585541, -16396.95848786,\n",
       "        -4719.97248948,   -373.91414314,   5719.10222414,   6724.55686317])"
      ]
     },
     "execution_count": 3,
     "metadata": {},
     "output_type": "execute_result"
    }
   ],
   "source": [
    "result.resid\n",
    "result.predict()\n",
    "y.values[:,0]-result.predict()"
   ]
  },
  {
   "cell_type": "code",
   "execution_count": 4,
   "metadata": {},
   "outputs": [
    {
     "data": {
      "text/html": [
       "<table class=\"simpletable\">\n",
       "<caption>OLS Regression Results</caption>\n",
       "<tr>\n",
       "  <th>Dep. Variable:</th>            <td>y</td>        <th>  R-squared:         </th> <td>   0.981</td>\n",
       "</tr>\n",
       "<tr>\n",
       "  <th>Model:</th>                   <td>OLS</td>       <th>  Adj. R-squared:    </th> <td>   0.977</td>\n",
       "</tr>\n",
       "<tr>\n",
       "  <th>Method:</th>             <td>Least Squares</td>  <th>  F-statistic:       </th> <td>   273.2</td>\n",
       "</tr>\n",
       "<tr>\n",
       "  <th>Date:</th>             <td>Sun, 07 Jun 2020</td> <th>  Prob (F-statistic):</th> <td>5.98e-14</td>\n",
       "</tr>\n",
       "<tr>\n",
       "  <th>Time:</th>                 <td>17:06:38</td>     <th>  Log-Likelihood:    </th> <td> -220.73</td>\n",
       "</tr>\n",
       "<tr>\n",
       "  <th>No. Observations:</th>      <td>    20</td>      <th>  AIC:               </th> <td>   449.5</td>\n",
       "</tr>\n",
       "<tr>\n",
       "  <th>Df Residuals:</th>          <td>    16</td>      <th>  BIC:               </th> <td>   453.4</td>\n",
       "</tr>\n",
       "<tr>\n",
       "  <th>Df Model:</th>              <td>     3</td>      <th>                     </th>     <td> </td>   \n",
       "</tr>\n",
       "<tr>\n",
       "  <th>Covariance Type:</th>      <td>nonrobust</td>    <th>                     </th>     <td> </td>   \n",
       "</tr>\n",
       "</table>\n",
       "<table class=\"simpletable\">\n",
       "<tr>\n",
       "    <td></td>       <th>coef</th>     <th>std err</th>      <th>t</th>      <th>P>|t|</th>  <th>[0.025</th>    <th>0.975]</th>  \n",
       "</tr>\n",
       "<tr>\n",
       "  <th>const</th> <td>-3.139e+06</td> <td> 2.32e+05</td> <td>  -13.556</td> <td> 0.000</td> <td>-3.63e+06</td> <td>-2.65e+06</td>\n",
       "</tr>\n",
       "<tr>\n",
       "  <th>X1</th>    <td>    0.1596</td> <td>    0.031</td> <td>    5.231</td> <td> 0.000</td> <td>    0.095</td> <td>    0.224</td>\n",
       "</tr>\n",
       "<tr>\n",
       "  <th>X2</th>    <td>   20.1321</td> <td>    1.386</td> <td>   14.523</td> <td> 0.000</td> <td>   17.194</td> <td>   23.071</td>\n",
       "</tr>\n",
       "<tr>\n",
       "  <th>X3</th>    <td> 1.071e+04</td> <td> 2254.408</td> <td>    4.749</td> <td> 0.000</td> <td> 5926.020</td> <td> 1.55e+04</td>\n",
       "</tr>\n",
       "</table>\n",
       "<table class=\"simpletable\">\n",
       "<tr>\n",
       "  <th>Omnibus:</th>       <td> 7.291</td> <th>  Durbin-Watson:     </th> <td>   1.391</td>\n",
       "</tr>\n",
       "<tr>\n",
       "  <th>Prob(Omnibus):</th> <td> 0.026</td> <th>  Jarque-Bera (JB):  </th> <td>   4.676</td>\n",
       "</tr>\n",
       "<tr>\n",
       "  <th>Skew:</th>          <td> 1.019</td> <th>  Prob(JB):          </th> <td>  0.0965</td>\n",
       "</tr>\n",
       "<tr>\n",
       "  <th>Kurtosis:</th>      <td> 4.208</td> <th>  Cond. No.          </th> <td>1.93e+07</td>\n",
       "</tr>\n",
       "</table><br/><br/>Warnings:<br/>[1] Standard Errors assume that the covariance matrix of the errors is correctly specified.<br/>[2] The condition number is large, 1.93e+07. This might indicate that there are<br/>strong multicollinearity or other numerical problems."
      ],
      "text/plain": [
       "<class 'statsmodels.iolib.summary.Summary'>\n",
       "\"\"\"\n",
       "                            OLS Regression Results                            \n",
       "==============================================================================\n",
       "Dep. Variable:                      y   R-squared:                       0.981\n",
       "Model:                            OLS   Adj. R-squared:                  0.977\n",
       "Method:                 Least Squares   F-statistic:                     273.2\n",
       "Date:                Sun, 07 Jun 2020   Prob (F-statistic):           5.98e-14\n",
       "Time:                        17:06:38   Log-Likelihood:                -220.73\n",
       "No. Observations:                  20   AIC:                             449.5\n",
       "Df Residuals:                      16   BIC:                             453.4\n",
       "Df Model:                           3                                         \n",
       "Covariance Type:            nonrobust                                         \n",
       "==============================================================================\n",
       "                 coef    std err          t      P>|t|      [0.025      0.975]\n",
       "------------------------------------------------------------------------------\n",
       "const      -3.139e+06   2.32e+05    -13.556      0.000   -3.63e+06   -2.65e+06\n",
       "X1             0.1596      0.031      5.231      0.000       0.095       0.224\n",
       "X2            20.1321      1.386     14.523      0.000      17.194      23.071\n",
       "X3          1.071e+04   2254.408      4.749      0.000    5926.020    1.55e+04\n",
       "==============================================================================\n",
       "Omnibus:                        7.291   Durbin-Watson:                   1.391\n",
       "Prob(Omnibus):                  0.026   Jarque-Bera (JB):                4.676\n",
       "Skew:                           1.019   Prob(JB):                       0.0965\n",
       "Kurtosis:                       4.208   Cond. No.                     1.93e+07\n",
       "==============================================================================\n",
       "\n",
       "Warnings:\n",
       "[1] Standard Errors assume that the covariance matrix of the errors is correctly specified.\n",
       "[2] The condition number is large, 1.93e+07. This might indicate that there are\n",
       "strong multicollinearity or other numerical problems.\n",
       "\"\"\""
      ]
     },
     "execution_count": 4,
     "metadata": {},
     "output_type": "execute_result"
    }
   ],
   "source": [
    "#回歸顯著性檢定\n",
    "result.rsquared\n",
    "result.rsquared_adj\n",
    "result.ess            #SSR\n",
    "result.ssr            #SSE\n",
    "result.centered_tss   #SST\n",
    "\n",
    "result.summary()"
   ]
  },
  {
   "cell_type": "code",
   "execution_count": 5,
   "metadata": {},
   "outputs": [
    {
     "name": "stdout",
     "output_type": "stream",
     "text": [
      "<F test: F=array([[27.36128006]]), p=8.24163127061717e-05, df_denom=16, df_num=1>\n"
     ]
    }
   ],
   "source": [
    "#F檢定\n",
    "print(result.f_test(\"X1=0\"))"
   ]
  },
  {
   "cell_type": "code",
   "execution_count": 6,
   "metadata": {},
   "outputs": [
    {
     "name": "stdout",
     "output_type": "stream",
     "text": [
      "                             Test for Constraints                             \n",
      "==============================================================================\n",
      "                 coef    std err          t      P>|t|      [0.025      0.975]\n",
      "------------------------------------------------------------------------------\n",
      "c0             0.1596      0.031      5.231      0.000       0.095       0.224\n",
      "==============================================================================\n"
     ]
    }
   ],
   "source": [
    "#t检验 \n",
    "print(result.t_test(\"X1=0\"))"
   ]
  },
  {
   "cell_type": "code",
   "execution_count": 7,
   "metadata": {},
   "outputs": [
    {
     "name": "stdout",
     "output_type": "stream",
     "text": [
      "Parameters:  X1        0.159563\n",
      "X2       20.132108\n",
      "X3    10705.152140\n",
      "dtype: float64\n"
     ]
    }
   ],
   "source": [
    "#資料中心化及標準化\n",
    "x1=df[features]\n",
    "xbar=x1-x1.mean(axis=0)\n",
    "ybar=y-y.mean(axis=0)\n",
    "model2 = sm.OLS(ybar, xbar)\n",
    "result2 = model2.fit()\n",
    "print('Parameters: ', result2.params)"
   ]
  },
  {
   "cell_type": "code",
   "execution_count": 8,
   "metadata": {},
   "outputs": [
    {
     "name": "stdout",
     "output_type": "stream",
     "text": [
      "Parameters:  X1    0.352462\n",
      "X2    0.815948\n",
      "X3    0.232416\n",
      "dtype: float64\n"
     ]
    }
   ],
   "source": [
    "#對標準化資料做回歸\n",
    "xstar=(x1-x1.mean(axis=0))/x1.std(axis=0)\n",
    "ystar=(y-y.mean(axis=0))/y.std(axis=0)\n",
    "model3 = sm.OLS(ystar, xstar)\n",
    "result3 = model3.fit()\n",
    "print('Parameters: ', result3.params)"
   ]
  },
  {
   "cell_type": "code",
   "execution_count": 9,
   "metadata": {},
   "outputs": [
    {
     "data": {
      "text/html": [
       "<table class=\"simpletable\">\n",
       "<caption>OLS Regression Results</caption>\n",
       "<tr>\n",
       "  <th>Dep. Variable:</th>            <td>y</td>        <th>  R-squared (uncentered):</th>      <td>   0.981</td>\n",
       "</tr>\n",
       "<tr>\n",
       "  <th>Model:</th>                   <td>OLS</td>       <th>  Adj. R-squared (uncentered):</th> <td>   0.977</td>\n",
       "</tr>\n",
       "<tr>\n",
       "  <th>Method:</th>             <td>Least Squares</td>  <th>  F-statistic:       </th>          <td>   290.3</td>\n",
       "</tr>\n",
       "<tr>\n",
       "  <th>Date:</th>             <td>Sun, 07 Jun 2020</td> <th>  Prob (F-statistic):</th>          <td>8.51e-15</td>\n",
       "</tr>\n",
       "<tr>\n",
       "  <th>Time:</th>                 <td>17:09:15</td>     <th>  Log-Likelihood:    </th>          <td>  11.690</td>\n",
       "</tr>\n",
       "<tr>\n",
       "  <th>No. Observations:</th>      <td>    20</td>      <th>  AIC:               </th>          <td>  -17.38</td>\n",
       "</tr>\n",
       "<tr>\n",
       "  <th>Df Residuals:</th>          <td>    17</td>      <th>  BIC:               </th>          <td>  -14.39</td>\n",
       "</tr>\n",
       "<tr>\n",
       "  <th>Df Model:</th>              <td>     3</td>      <th>                     </th>              <td> </td>   \n",
       "</tr>\n",
       "<tr>\n",
       "  <th>Covariance Type:</th>      <td>nonrobust</td>    <th>                     </th>              <td> </td>   \n",
       "</tr>\n",
       "</table>\n",
       "<table class=\"simpletable\">\n",
       "<tr>\n",
       "   <td></td>     <th>coef</th>     <th>std err</th>      <th>t</th>      <th>P>|t|</th>  <th>[0.025</th>    <th>0.975]</th>  \n",
       "</tr>\n",
       "<tr>\n",
       "  <th>X1</th> <td>    0.3525</td> <td>    0.065</td> <td>    5.392</td> <td> 0.000</td> <td>    0.215</td> <td>    0.490</td>\n",
       "</tr>\n",
       "<tr>\n",
       "  <th>X2</th> <td>    0.8159</td> <td>    0.055</td> <td>   14.970</td> <td> 0.000</td> <td>    0.701</td> <td>    0.931</td>\n",
       "</tr>\n",
       "<tr>\n",
       "  <th>X3</th> <td>    0.2324</td> <td>    0.047</td> <td>    4.895</td> <td> 0.000</td> <td>    0.132</td> <td>    0.333</td>\n",
       "</tr>\n",
       "</table>\n",
       "<table class=\"simpletable\">\n",
       "<tr>\n",
       "  <th>Omnibus:</th>       <td> 7.291</td> <th>  Durbin-Watson:     </th> <td>   1.391</td>\n",
       "</tr>\n",
       "<tr>\n",
       "  <th>Prob(Omnibus):</th> <td> 0.026</td> <th>  Jarque-Bera (JB):  </th> <td>   4.676</td>\n",
       "</tr>\n",
       "<tr>\n",
       "  <th>Skew:</th>          <td> 1.019</td> <th>  Prob(JB):          </th> <td>  0.0965</td>\n",
       "</tr>\n",
       "<tr>\n",
       "  <th>Kurtosis:</th>      <td> 4.208</td> <th>  Cond. No.          </th> <td>    3.73</td>\n",
       "</tr>\n",
       "</table><br/><br/>Warnings:<br/>[1] Standard Errors assume that the covariance matrix of the errors is correctly specified."
      ],
      "text/plain": [
       "<class 'statsmodels.iolib.summary.Summary'>\n",
       "\"\"\"\n",
       "                                 OLS Regression Results                                \n",
       "=======================================================================================\n",
       "Dep. Variable:                      y   R-squared (uncentered):                   0.981\n",
       "Model:                            OLS   Adj. R-squared (uncentered):              0.977\n",
       "Method:                 Least Squares   F-statistic:                              290.3\n",
       "Date:                Sun, 07 Jun 2020   Prob (F-statistic):                    8.51e-15\n",
       "Time:                        17:09:15   Log-Likelihood:                          11.690\n",
       "No. Observations:                  20   AIC:                                     -17.38\n",
       "Df Residuals:                      17   BIC:                                     -14.39\n",
       "Df Model:                           3                                                  \n",
       "Covariance Type:            nonrobust                                                  \n",
       "==============================================================================\n",
       "                 coef    std err          t      P>|t|      [0.025      0.975]\n",
       "------------------------------------------------------------------------------\n",
       "X1             0.3525      0.065      5.392      0.000       0.215       0.490\n",
       "X2             0.8159      0.055     14.970      0.000       0.701       0.931\n",
       "X3             0.2324      0.047      4.895      0.000       0.132       0.333\n",
       "==============================================================================\n",
       "Omnibus:                        7.291   Durbin-Watson:                   1.391\n",
       "Prob(Omnibus):                  0.026   Jarque-Bera (JB):                4.676\n",
       "Skew:                           1.019   Prob(JB):                       0.0965\n",
       "Kurtosis:                       4.208   Cond. No.                         3.73\n",
       "==============================================================================\n",
       "\n",
       "Warnings:\n",
       "[1] Standard Errors assume that the covariance matrix of the errors is correctly specified.\n",
       "\"\"\""
      ]
     },
     "execution_count": 9,
     "metadata": {},
     "output_type": "execute_result"
    }
   ],
   "source": [
    "result3.summary()"
   ]
  },
  {
   "cell_type": "code",
   "execution_count": 11,
   "metadata": {},
   "outputs": [
    {
     "data": {
      "text/plain": [
       "<matplotlib.axes._subplots.AxesSubplot at 0x12637ebd0>"
      ]
     },
     "execution_count": 11,
     "metadata": {},
     "output_type": "execute_result"
    },
    {
     "data": {
      "image/png": "[encoded data removed]",
      "text/plain": [
       "<Figure size 432x288 with 2 Axes>"
      ]
     },
     "metadata": {
      "needs_background": "light"
     },
     "output_type": "display_data"
    }
   ],
   "source": [
    "#相關与點散圖矩陣\n",
    "f=[labels,features]\n",
    "f=labels+features\n",
    "d=df[f]\n",
    "r=d.corr()\n",
    "sns.heatmap(r)"
   ]
  },
  {
   "cell_type": "code",
   "execution_count": 12,
   "metadata": {},
   "outputs": [
    {
     "data": {
      "text/plain": [
       "(0.8305023344098896, 5.824007888340452e-06)"
      ]
     },
     "execution_count": 12,
     "metadata": {},
     "output_type": "execute_result"
    }
   ],
   "source": [
    "from scipy.stats.stats import pearsonr\n",
    "pearsonr(df['X1'],df['y']) #計算X1與y的相關係數並進行檢定"
   ]
  },
  {
   "cell_type": "code",
   "execution_count": 13,
   "metadata": {},
   "outputs": [
    {
     "data": {
      "text/plain": [
       "<matplotlib.axes._subplots.AxesSubplot at 0x1264e0750>"
      ]
     },
     "execution_count": 13,
     "metadata": {},
     "output_type": "execute_result"
    },
    {
     "data": {
      "image/png": "[encoded data removed]",
      "text/plain": [
       "<Figure size 432x288 with 2 Axes>"
      ]
     },
     "metadata": {
      "needs_background": "light"
     },
     "output_type": "display_data"
    }
   ],
   "source": [
    "r1=df[features].corr()\n",
    "r2=df.corr() \n",
    "sns.heatmap(r)"
   ]
  },
  {
   "cell_type": "code",
   "execution_count": 14,
   "metadata": {},
   "outputs": [
    {
     "data": {
      "text/plain": [
       "<seaborn.axisgrid.PairGrid at 0x126614d90>"
      ]
     },
     "execution_count": 14,
     "metadata": {},
     "output_type": "execute_result"
    },
    {
     "data": {
      "image/png": "[encoded data removed]",
      "text/plain": [
       "<Figure size 432x288 with 1 Axes>"
      ]
     },
     "metadata": {
      "needs_background": "light"
     },
     "output_type": "display_data"
    },
    {
     "data": {
      "image/png": "[encoded data removed]",
      "text/plain": [
       "<Figure size 720x720 with 30 Axes>"
      ]
     },
     "metadata": {},
     "output_type": "display_data"
    }
   ],
   "source": [
    "sns.regplot(df['X1'],df['y'])\n",
    "\n",
    "#散點圖矩陣\n",
    "sns.set()\n",
    "sns.pairplot(df,height=2)"
   ]
  },
  {
   "cell_type": "code",
   "execution_count": null,
   "metadata": {},
   "outputs": [],
   "source": []
  }
 ],
 "metadata": {
  "kernelspec": {
   "display_name": "Python 3",
   "language": "python",
   "name": "python3"
  },
  "language_info": {
   "codemirror_mode": {
    "name": "ipython",
    "version": 3
   },
   "file_extension": ".py",
   "mimetype": "text/x-python",
   "name": "python",
   "nbconvert_exporter": "python",
   "pygments_lexer": "ipython3",
   "version": "3.7.4"
  }
 },
 "nbformat": 4,
 "nbformat_minor": 2
}
