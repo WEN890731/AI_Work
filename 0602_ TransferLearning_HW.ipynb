{
 "cells": [
  {
   "cell_type": "code",
   "execution_count": 1,
   "metadata": {},
   "outputs": [],
   "source": [
    "#Import套件\n",
    "\n",
    "import matplotlib.pyplot as plt\n",
    "import numpy as np\n",
    "from tensorflow.keras.models import Sequential\n",
    "from tensorflow.keras.layers import Dense\n",
    "from tensorflow.keras.layers import Flatten\n",
    "from tensorflow.keras.layers import Conv2D, MaxPool2D, GlobalAveragePooling2D\n",
    "from tensorflow.keras.optimizers import SGD, Adam\n",
    "from tensorflow.keras import datasets\n",
    "from tensorflow.keras.utils import to_categorical\n"
   ]
  },
  {
   "cell_type": "code",
   "execution_count": 2,
   "metadata": {},
   "outputs": [],
   "source": [
    "#載入資料集(cifar10)\n",
    "(x_train, y_train0), (x_test, y_test0) = datasets.cifar10.load_data()"
   ]
  },
  {
   "cell_type": "code",
   "execution_count": 3,
   "metadata": {},
   "outputs": [],
   "source": [
    "nu = np.random.randint(x_train.shape[0])"
   ]
  },
  {
   "cell_type": "code",
   "execution_count": 4,
   "metadata": {},
   "outputs": [],
   "source": [
    "# Normalize the range of featurs\n",
    "x_train = x_train / x_train.max()\n",
    "x_test = x_test / x_test.max()"
   ]
  },
  {
   "cell_type": "code",
   "execution_count": 5,
   "metadata": {},
   "outputs": [],
   "source": [
    "# One-hot encoding\n",
    "y_train = to_categorical(y_train0, 10)\n",
    "y_test = to_categorical(y_test0, 10)"
   ]
  },
  {
   "cell_type": "code",
   "execution_count": 6,
   "metadata": {},
   "outputs": [],
   "source": [
    "#建cifar10神經網路\n",
    "CF_CNN_layers_10 = [Conv2D(32, (3, 3), input_shape=(32, 32, 3), padding='same', activation='relu'),\n",
    "           MaxPool2D(),\n",
    "           Conv2D(128, (3, 3), padding='same', activation='relu'),\n",
    "           MaxPool2D(),\n",
    "           Conv2D(256, (3, 3), padding='same', activation='relu'),\n",
    "           GlobalAveragePooling2D()]"
   ]
  },
  {
   "cell_type": "code",
   "execution_count": 7,
   "metadata": {},
   "outputs": [],
   "source": [
    "FC_layers = [Dense(units=128, activation='relu'),\n",
    "       Dense(units=10, activation='softmax')]"
   ]
  },
  {
   "cell_type": "code",
   "execution_count": 8,
   "metadata": {},
   "outputs": [],
   "source": [
    "model = Sequential(CF_CNN_layers_10+FC_layers)"
   ]
  },
  {
   "cell_type": "code",
   "execution_count": 9,
   "metadata": {},
   "outputs": [
    {
     "name": "stdout",
     "output_type": "stream",
     "text": [
      "Model: \"sequential\"\n",
      "_________________________________________________________________\n",
      "Layer (type)                 Output Shape              Param #   \n",
      "=================================================================\n",
      "conv2d (Conv2D)              (None, 32, 32, 32)        896       \n",
      "_________________________________________________________________\n",
      "max_pooling2d (MaxPooling2D) (None, 16, 16, 32)        0         \n",
      "_________________________________________________________________\n",
      "conv2d_1 (Conv2D)            (None, 16, 16, 128)       36992     \n",
      "_________________________________________________________________\n",
      "max_pooling2d_1 (MaxPooling2 (None, 8, 8, 128)         0         \n",
      "_________________________________________________________________\n",
      "conv2d_2 (Conv2D)            (None, 8, 8, 256)         295168    \n",
      "_________________________________________________________________\n",
      "global_average_pooling2d (Gl (None, 256)               0         \n",
      "_________________________________________________________________\n",
      "dense (Dense)                (None, 128)               32896     \n",
      "_________________________________________________________________\n",
      "dense_1 (Dense)              (None, 10)                1290      \n",
      "=================================================================\n",
      "Total params: 367,242\n",
      "Trainable params: 367,242\n",
      "Non-trainable params: 0\n",
      "_________________________________________________________________\n"
     ]
    }
   ],
   "source": [
    "model.summary()"
   ]
  },
  {
   "cell_type": "code",
   "execution_count": 10,
   "metadata": {},
   "outputs": [],
   "source": [
    "model.compile(\n",
    "    loss='categorical_crossentropy',\n",
    "    optimizer=Adam(),\n",
    "    metrics=['categorical_accuracy'])"
   ]
  },
  {
   "cell_type": "code",
   "execution_count": 11,
   "metadata": {},
   "outputs": [
    {
     "name": "stdout",
     "output_type": "stream",
     "text": [
      "Train on 50000 samples, validate on 10000 samples\n",
      "Epoch 1/3\n",
      "50000/50000 [==============================] - 121s 2ms/sample - loss: 1.8103 - categorical_accuracy: 0.3143 - val_loss: 1.6005 - val_categorical_accuracy: 0.4011\n",
      "Epoch 2/3\n",
      "50000/50000 [==============================] - 112s 2ms/sample - loss: 1.5145 - categorical_accuracy: 0.4407 - val_loss: 1.4231 - val_categorical_accuracy: 0.4681\n",
      "Epoch 3/3\n",
      "50000/50000 [==============================] - 114s 2ms/sample - loss: 1.3486 - categorical_accuracy: 0.5103 - val_loss: 1.3419 - val_categorical_accuracy: 0.5080\n"
     ]
    },
    {
     "data": {
      "text/plain": [
       "<tensorflow.python.keras.callbacks.History at 0x137b34890>"
      ]
     },
     "execution_count": 11,
     "metadata": {},
     "output_type": "execute_result"
    }
   ],
   "source": [
    "model.fit(x_train, y_train, batch_size=128, epochs=3,validation_data=(x_test, y_test))"
   ]
  },
  {
   "cell_type": "code",
   "execution_count": 39,
   "metadata": {},
   "outputs": [
    {
     "name": "stdout",
     "output_type": "stream",
     "text": [
      "a_train: (60000, 28, 28)\n",
      "a_test: (10000, 28, 28)\n",
      "b_train: (60000,)\n",
      "b_test: (10000,)\n"
     ]
    }
   ],
   "source": [
    "# Transfer learning\n",
    "(a_train, b_train0), (a_test, b_test0) = datasets.mnist.load_data()\n",
    "print(\"a_train:\", a_train.shape)\n",
    "print(\"a_test:\", a_test.shape)\n",
    "print(\"b_train:\", b_train0.shape)\n",
    "print(\"b_test:\", b_test0.shape)"
   ]
  },
  {
   "cell_type": "code",
   "execution_count": 40,
   "metadata": {},
   "outputs": [],
   "source": [
    "a_train = a_train.reshape(60000, 28, 28, 1)\n",
    "a_test = a_test.reshape(10000, 28, 28, 1)"
   ]
  },
  {
   "cell_type": "code",
   "execution_count": 41,
   "metadata": {},
   "outputs": [],
   "source": [
    "a_train = a_train / a_train.max()\n",
    "a_test = a_test / a_test.max()\n",
    "\n",
    "b_train = to_categorical(b_train0, 10)\n",
    "b_test = to_categorical(b_test0, 10)"
   ]
  },
  {
   "cell_type": "code",
   "execution_count": 42,
   "metadata": {},
   "outputs": [],
   "source": [
    "CNN_layers = [Conv2D(28, (3, 3), input_shape=(28, 28, 1), padding='same', activation='relu'),\n",
    "        MaxPool2D(),\n",
    "        Conv2D(64, (3, 3), padding='same', activation='relu'),\n",
    "        MaxPool2D(),\n",
    "        Conv2D(128, (3, 3), padding='same', activation='relu'),\n",
    "        GlobalAveragePooling2D()]"
   ]
  },
  {
   "cell_type": "code",
   "execution_count": 43,
   "metadata": {},
   "outputs": [],
   "source": [
    "FC_layers = [Dense(units=256, activation='relu'),\n",
    "       Dense(units=10, activation='softmax')]\n"
   ]
  },
  {
   "cell_type": "code",
   "execution_count": 44,
   "metadata": {},
   "outputs": [
    {
     "name": "stdout",
     "output_type": "stream",
     "text": [
      "Model: \"sequential_3\"\n",
      "_________________________________________________________________\n",
      "Layer (type)                 Output Shape              Param #   \n",
      "=================================================================\n",
      "conv2d_9 (Conv2D)            (None, 28, 28, 28)        280       \n",
      "_________________________________________________________________\n",
      "max_pooling2d_6 (MaxPooling2 (None, 14, 14, 28)        0         \n",
      "_________________________________________________________________\n",
      "conv2d_10 (Conv2D)           (None, 14, 14, 64)        16192     \n",
      "_________________________________________________________________\n",
      "max_pooling2d_7 (MaxPooling2 (None, 7, 7, 64)          0         \n",
      "_________________________________________________________________\n",
      "conv2d_11 (Conv2D)           (None, 7, 7, 128)         73856     \n",
      "_________________________________________________________________\n",
      "global_average_pooling2d_3 ( (None, 128)               0         \n",
      "_________________________________________________________________\n",
      "dense_6 (Dense)              (None, 256)               33024     \n",
      "_________________________________________________________________\n",
      "dense_7 (Dense)              (None, 10)                2570      \n",
      "=================================================================\n",
      "Total params: 125,922\n",
      "Trainable params: 125,922\n",
      "Non-trainable params: 0\n",
      "_________________________________________________________________\n"
     ]
    }
   ],
   "source": [
    "model_10 = Sequential(CNN_layers+FC_layers)\n",
    "model_10.summary()"
   ]
  },
  {
   "cell_type": "code",
   "execution_count": 45,
   "metadata": {},
   "outputs": [],
   "source": [
    "for layer in FC_layers:\n",
    "    layer.train = False"
   ]
  },
  {
   "cell_type": "code",
   "execution_count": 46,
   "metadata": {},
   "outputs": [],
   "source": [
    "model_10.compile(\n",
    "    loss='categorical_crossentropy', \n",
    "    optimizer=Adam(), \n",
    "    metrics=['categorical_accuracy'])"
   ]
  },
  {
   "cell_type": "code",
   "execution_count": 47,
   "metadata": {},
   "outputs": [
    {
     "name": "stdout",
     "output_type": "stream",
     "text": [
      "Train on 60000 samples, validate on 10000 samples\n",
      "Epoch 1/5\n",
      "60000/60000 [==============================] - 38s 641us/sample - loss: 0.7539 - categorical_accuracy: 0.7469 - val_loss: 0.3002 - val_categorical_accuracy: 0.9063\n",
      "Epoch 2/5\n",
      "60000/60000 [==============================] - 37s 623us/sample - loss: 0.2288 - categorical_accuracy: 0.9301 - val_loss: 0.1926 - val_categorical_accuracy: 0.9398\n",
      "Epoch 3/5\n",
      "60000/60000 [==============================] - 38s 625us/sample - loss: 0.1550 - categorical_accuracy: 0.9518 - val_loss: 0.1208 - val_categorical_accuracy: 0.9630\n",
      "Epoch 4/5\n",
      "60000/60000 [==============================] - 38s 627us/sample - loss: 0.1170 - categorical_accuracy: 0.9643 - val_loss: 0.0859 - val_categorical_accuracy: 0.9720\n",
      "Epoch 5/5\n",
      "60000/60000 [==============================] - 38s 628us/sample - loss: 0.1020 - categorical_accuracy: 0.9683 - val_loss: 0.0749 - val_categorical_accuracy: 0.9768\n"
     ]
    },
    {
     "data": {
      "text/plain": [
       "<tensorflow.python.keras.callbacks.History at 0x137ae9e10>"
      ]
     },
     "execution_count": 47,
     "metadata": {},
     "output_type": "execute_result"
    }
   ],
   "source": [
    "model_10.fit(a_train, b_train, batch_size=128, epochs=5, validation_data=(a_test, b_test))"
   ]
  },
  {
   "cell_type": "code",
   "execution_count": 48,
   "metadata": {},
   "outputs": [
    {
     "name": "stdout",
     "output_type": "stream",
     "text": [
      "60000/60000 [==============================] - 11s 186us/sample - loss: 0.0826 - categorical_accuracy: 0.9743\n",
      "10000/10000 [==============================] - 2s 183us/sample - loss: 0.0749 - categorical_accuracy: 0.9768\n",
      "Train Accuracy: 97.4316656589508\n",
      "Test Accuracy: 97.680002450943\n"
     ]
    }
   ],
   "source": [
    "#查看結果\n",
    "\n",
    "score_train_2 = model_10.evaluate(a_train, b_train)\n",
    "score_test_2 = model_10.evaluate(a_test, b_test)\n",
    "\n",
    "print(f'Train Accuracy: {score_train_2[1]*100}')\n",
    "print(f'Test Accuracy: {score_test_2[1]*100}')"
   ]
  },
  {
   "cell_type": "code",
   "execution_count": null,
   "metadata": {},
   "outputs": [],
   "source": []
  }
 ],
 "metadata": {
  "kernelspec": {
   "display_name": "Python 3",
   "language": "python",
   "name": "python3"
  },
  "language_info": {
   "codemirror_mode": {
    "name": "ipython",
    "version": 3
   },
   "file_extension": ".py",
   "mimetype": "text/x-python",
   "name": "python",
   "nbconvert_exporter": "python",
   "pygments_lexer": "ipython3",
   "version": "3.7.4"
  }
 },
 "nbformat": 4,
 "nbformat_minor": 2
}
