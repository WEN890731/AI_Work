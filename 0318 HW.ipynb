{
 "cells": [
  {
   "cell_type": "code",
   "execution_count": 1,
   "metadata": {},
   "outputs": [],
   "source": [
    "%matplotlib inline\n",
    "#import 套件\n",
    "import numpy as np\n",
    "import matplotlib.pyplot as plt\n",
    "import tensorflow as tf"
   ]
  },
  {
   "cell_type": "code",
   "execution_count": 7,
   "metadata": {},
   "outputs": [
    {
     "ename": "ModuleNotFoundError",
     "evalue": "No module named 'keras'",
     "output_type": "error",
     "traceback": [
      "\u001b[0;31m---------------------------------------------------------------------------\u001b[0m",
      "\u001b[0;31mModuleNotFoundError\u001b[0m                       Traceback (most recent call last)",
      "\u001b[0;32m<ipython-input-7-6067ed8d745a>\u001b[0m in \u001b[0;36m<module>\u001b[0;34m\u001b[0m\n\u001b[0;32m----> 1\u001b[0;31m \u001b[0;32mfrom\u001b[0m \u001b[0mkeras\u001b[0m \u001b[0;32mimport\u001b[0m \u001b[0mfashion_mnist\u001b[0m\u001b[0;34m\u001b[0m\u001b[0;34m\u001b[0m\u001b[0m\n\u001b[0m",
      "\u001b[0;31mModuleNotFoundError\u001b[0m: No module named 'keras'"
     ]
    }
   ],
   "source": [
    "from keras.datasets import fashion_mnist"
   ]
  },
  {
   "cell_type": "markdown",
   "metadata": {},
   "source": [
    "## 讀入Fashion MNSIT數據集"
   ]
  },
  {
   "cell_type": "code",
   "execution_count": 3,
   "metadata": {},
   "outputs": [],
   "source": [
    "fashion_mnist='fashion_mnist'"
   ]
  },
  {
   "cell_type": "code",
   "execution_count": 4,
   "metadata": {},
   "outputs": [
    {
     "ename": "AttributeError",
     "evalue": "'str' object has no attribute 'load_data'",
     "output_type": "error",
     "traceback": [
      "\u001b[0;31m---------------------------------------------------------------------------\u001b[0m",
      "\u001b[0;31mAttributeError\u001b[0m                            Traceback (most recent call last)",
      "\u001b[0;32m<ipython-input-4-1e4e485aabac>\u001b[0m in \u001b[0;36m<module>\u001b[0;34m\u001b[0m\n\u001b[0;32m----> 1\u001b[0;31m \u001b[0;34m(\u001b[0m\u001b[0mx_train\u001b[0m\u001b[0;34m,\u001b[0m \u001b[0my_train\u001b[0m\u001b[0;34m)\u001b[0m\u001b[0;34m,\u001b[0m \u001b[0;34m(\u001b[0m\u001b[0mx_test\u001b[0m\u001b[0;34m,\u001b[0m \u001b[0my_test\u001b[0m\u001b[0;34m)\u001b[0m\u001b[0;34m=\u001b[0m\u001b[0mfashion_mnist\u001b[0m\u001b[0;34m.\u001b[0m\u001b[0mload_data\u001b[0m\u001b[0;34m(\u001b[0m\u001b[0;34m)\u001b[0m\u001b[0;34m\u001b[0m\u001b[0;34m\u001b[0m\u001b[0m\n\u001b[0m",
      "\u001b[0;31mAttributeError\u001b[0m: 'str' object has no attribute 'load_data'"
     ]
    }
   ],
   "source": [
    "(x_train, y_train), (x_test, y_test)=fashion_mnist.load_data()"
   ]
  },
  {
   "cell_type": "code",
   "execution_count": 56,
   "metadata": {},
   "outputs": [],
   "source": [
    "class_names = ['T-shirt/top', 'Trouser', 'Pullover', 'Dress', 'Coat',\n",
    "               'Sandal', 'Shirt', 'Sneaker', 'Bag', 'Ankle boot']"
   ]
  },
  {
   "cell_type": "code",
   "execution_count": 57,
   "metadata": {},
   "outputs": [
    {
     "data": {
      "text/plain": [
       "60000"
      ]
     },
     "execution_count": 57,
     "metadata": {},
     "output_type": "execute_result"
    }
   ],
   "source": [
    "len(x_train)"
   ]
  },
  {
   "cell_type": "markdown",
   "metadata": {},
   "source": [
    "## 看數據集內容"
   ]
  },
  {
   "cell_type": "code",
   "execution_count": 58,
   "metadata": {},
   "outputs": [
    {
     "data": {
      "text/plain": [
       "10000"
      ]
     },
     "execution_count": 58,
     "metadata": {},
     "output_type": "execute_result"
    }
   ],
   "source": [
    "len(x_test)"
   ]
  },
  {
   "cell_type": "code",
   "execution_count": 59,
   "metadata": {},
   "outputs": [],
   "source": [
    "n=12345"
   ]
  },
  {
   "cell_type": "code",
   "execution_count": 60,
   "metadata": {},
   "outputs": [
    {
     "data": {
      "text/plain": [
       "array([[  0,   0,   0,   0,   0,   0,   0,   0,   0,   0,   0,   0,   0,\n",
       "          0,   0,   0,   0,   0,   0,   0,   0,   0,   0,   0,   0,   0,\n",
       "          0,   0],\n",
       "       [  0,   0,   0,   0,   0,   0,   0,   0,   0,   0,   0,   0,   0,\n",
       "          0,   0,   0,   0,   0,   0,   0,   0,   0,   0,   0,   0,   0,\n",
       "          0,   0],\n",
       "       [  0,   0,   0,   0,   0,   0,   0,   0,   0,   0,   0,   0,   0,\n",
       "          0,   0,   0,   0,   0,   0,   0,   0,   0,   0,   0,   0,   0,\n",
       "          0,   0],\n",
       "       [  0,   5, 118, 107,   3,   0,   0,   0,   0,   0,   0,   0,   0,\n",
       "          0,   0,   0,   0,   0,   0,   0,   0,   0,   0,   0,   0,   0,\n",
       "          1,   0],\n",
       "       [  0, 175, 197, 204, 212, 144, 104, 119, 120, 105,  79,  69,  60,\n",
       "         49,  44,  40,  37,  33,  36,  34,  23,  14,  12,  27,  41,   0,\n",
       "          0,   1],\n",
       "       [  0, 204, 195, 199, 196, 198, 209, 209, 207, 206, 204, 202, 197,\n",
       "        193, 193, 197, 198, 197, 206, 205, 199, 190, 195, 197, 205,  48,\n",
       "          0,   0],\n",
       "       [ 29, 255, 189, 185, 178, 169, 161, 167, 167, 166, 165, 163, 162,\n",
       "        160, 164, 169, 164, 162, 166, 170, 177, 175, 171, 157, 187, 205,\n",
       "         15,   0],\n",
       "       [  0, 210, 151, 155, 167, 155, 165, 171, 173, 166, 162, 159, 169,\n",
       "        167, 177, 185, 172, 171, 183, 175, 182, 190, 191, 186, 196, 229,\n",
       "        160,  66],\n",
       "       [199, 183, 169, 185, 189, 177, 167, 167, 176, 190, 192, 179, 175,\n",
       "        175, 188, 188, 171, 174, 187, 189, 202, 189, 184, 186, 215, 230,\n",
       "        229, 215],\n",
       "       [215, 212, 199, 206, 200, 199, 183, 188, 190, 190, 188, 185, 187,\n",
       "        202, 203, 196, 190, 188, 191, 197, 192, 187, 201, 200, 219, 218,\n",
       "        204,   7],\n",
       "       [  0,  99, 209, 195, 201, 198, 186, 187, 184, 183, 178, 181, 186,\n",
       "        186, 188, 195, 201, 205, 199, 195, 202, 210, 206, 198, 213, 206,\n",
       "        255,  10],\n",
       "       [  0,  10, 248, 195, 200, 187, 186, 188, 184, 178, 174, 183, 185,\n",
       "        188, 191, 194, 196, 200, 196, 196, 209, 209, 212, 201, 223, 217,\n",
       "        192,   0],\n",
       "       [  0,   0, 223, 204, 183, 187, 184, 191, 190, 184, 176, 187, 189,\n",
       "        194, 195, 192, 189, 191, 199, 205, 208, 210, 209, 206, 220, 237,\n",
       "         84,   0],\n",
       "       [  0,   8, 197, 196, 194, 192, 187, 190, 192, 188, 182, 192, 190,\n",
       "        189, 191, 193, 195, 193, 196, 202, 206, 212, 211, 210, 210, 232,\n",
       "        139,   0],\n",
       "       [  0,  19, 207, 201, 196, 192, 188, 188, 191, 185, 187, 193, 190,\n",
       "        191, 193, 196, 197, 199, 202, 205, 207, 211, 208, 206, 206, 227,\n",
       "        167,   0],\n",
       "       [  0,   0, 197, 213, 192, 192, 188, 188, 190, 185, 183, 188, 193,\n",
       "        192, 191, 195, 197, 198, 204, 208, 212, 217, 213, 204, 211, 220,\n",
       "        209,   0],\n",
       "       [  0,   0, 189, 212, 192, 192, 188, 186, 187, 183, 183, 182, 189,\n",
       "        190, 190, 193, 194, 195, 199, 204, 208, 214, 214, 203, 211, 213,\n",
       "        250,   0],\n",
       "       [  0,   0, 199, 205, 194, 193, 186, 186, 186, 187, 192, 185, 187,\n",
       "        187, 186, 190, 191, 194, 198, 203, 207, 213, 215, 203, 208, 214,\n",
       "        255,  29],\n",
       "       [  0,  36, 218, 198, 195, 194, 191, 188, 184, 190, 188, 186, 187,\n",
       "        189, 188, 191, 191, 192, 197, 201, 205, 210, 214, 195, 240, 115,\n",
       "        226, 162],\n",
       "       [  0,  46, 207, 200, 200, 190, 187, 186, 187, 188, 185, 185, 187,\n",
       "        187, 186, 188, 189, 188, 191, 197, 200, 207, 215, 173, 249,  37,\n",
       "        156, 245],\n",
       "       [  0,  63, 210, 202, 198, 191, 188, 191, 191, 186, 184, 184, 186,\n",
       "        186, 186, 188, 189, 190, 194, 198, 201, 206, 220, 200, 192, 255,\n",
       "        254, 152],\n",
       "       [  0,  59, 216, 198, 196, 193, 194, 197, 197, 192, 192, 192, 194,\n",
       "        192, 192, 195, 195, 196, 203, 204, 202, 212, 195, 182, 205,  98,\n",
       "          4,   0],\n",
       "       [  0,  24, 212, 222, 216, 217, 217, 212, 206, 203, 199, 197, 197,\n",
       "        193, 193, 195, 196, 201, 204, 201, 200, 209, 191, 190, 233,   0,\n",
       "          0,   0],\n",
       "       [  0,   0,  59, 105, 137, 152, 172, 205, 191, 201, 206, 210, 218,\n",
       "        218, 217, 212, 211, 213, 208, 205, 203, 201, 187, 216, 126,   0,\n",
       "          4,   0],\n",
       "       [  0,   0,   0,   0,   0,   0,   0,   0,   0,  10,  15,  29,  50,\n",
       "         89, 115, 146, 175, 205, 231, 242, 215, 218, 215, 193,   0,   0,\n",
       "          1,   0],\n",
       "       [  0,   1,   5,   6,   0,   0,   0,   0,   0,   0,   0,   0,   0,\n",
       "          0,   0,   0,   0,   0,   0,  15,  45,  77,  93,   0,   0,   0,\n",
       "          0,   0],\n",
       "       [  0,   0,   0,   0,   0,   0,   0,   0,   0,   0,   0,   0,   0,\n",
       "          0,   0,   0,   0,   0,   0,   0,   0,   0,   0,   0,   0,   0,\n",
       "          0,   0],\n",
       "       [  0,   0,   0,   0,   0,   0,   0,   0,   0,   0,   0,   0,   0,\n",
       "          0,   0,   0,   0,   0,   0,   0,   0,   0,   0,   0,   0,   0,\n",
       "          0,   0]], dtype=uint8)"
      ]
     },
     "execution_count": 60,
     "metadata": {},
     "output_type": "execute_result"
    }
   ],
   "source": [
    "x_train[n]"
   ]
  },
  {
   "cell_type": "code",
   "execution_count": 61,
   "metadata": {},
   "outputs": [
    {
     "data": {
      "text/plain": [
       "8"
      ]
     },
     "execution_count": 61,
     "metadata": {},
     "output_type": "execute_result"
    }
   ],
   "source": [
    "y_train[n]"
   ]
  },
  {
   "cell_type": "code",
   "execution_count": 62,
   "metadata": {},
   "outputs": [
    {
     "name": "stdout",
     "output_type": "stream",
     "text": [
      "This is Bag\n"
     ]
    },
    {
     "data": {
      "text/plain": [
       "<matplotlib.image.AxesImage at 0x141ed1950>"
      ]
     },
     "execution_count": 62,
     "metadata": {},
     "output_type": "execute_result"
    },
    {
     "data": {
      "image/png": "[encoded data removed]",
      "text/plain": [
       "<Figure size 432x288 with 1 Axes>"
      ]
     },
     "metadata": {
      "needs_background": "light"
     },
     "output_type": "display_data"
    }
   ],
   "source": [
    "print(\"This is\",class_names[y_train[n]])\n",
    "plt.imshow(x_train[n],cmap=\"Greys\")"
   ]
  },
  {
   "cell_type": "code",
   "execution_count": 63,
   "metadata": {},
   "outputs": [
    {
     "data": {
      "image/png": "[encoded data removed]",
      "text/plain": [
       "<Figure size 432x288 with 5 Axes>"
      ]
     },
     "metadata": {},
     "output_type": "display_data"
    }
   ],
   "source": [
    "pick = np.random.choice(60000, 5, replace=False)\n",
    "\n",
    "for i in range(5):\n",
    "    n = pick[i]\n",
    "    ax = plt.subplot(151+i)\n",
    "    ax.set_xticks([])\n",
    "    ax.set_yticks([])\n",
    "    ax.set_title(class_names[y_train[n]], fontsize=10)\n",
    "    plt.imshow(x_train[n],cmap=\"Greys\")  "
   ]
  },
  {
   "cell_type": "code",
   "execution_count": 64,
   "metadata": {},
   "outputs": [],
   "source": [
    "x_train = x_train/255"
   ]
  },
  {
   "cell_type": "code",
   "execution_count": 65,
   "metadata": {},
   "outputs": [],
   "source": [
    "x_test = x_test/255"
   ]
  },
  {
   "cell_type": "code",
   "execution_count": 66,
   "metadata": {},
   "outputs": [],
   "source": [
    "x_train = x_train.reshape(60000,784)"
   ]
  },
  {
   "cell_type": "code",
   "execution_count": 67,
   "metadata": {},
   "outputs": [
    {
     "data": {
      "text/plain": [
       "(60000,)"
      ]
     },
     "execution_count": 67,
     "metadata": {},
     "output_type": "execute_result"
    }
   ],
   "source": [
    "y_train.shape"
   ]
  },
  {
   "cell_type": "code",
   "execution_count": 68,
   "metadata": {},
   "outputs": [],
   "source": [
    "x_test = x_test.reshape(10000,784)"
   ]
  },
  {
   "cell_type": "code",
   "execution_count": 69,
   "metadata": {},
   "outputs": [],
   "source": [
    "from tensorflow.keras.utils import to_categorical"
   ]
  },
  {
   "cell_type": "code",
   "execution_count": 70,
   "metadata": {},
   "outputs": [],
   "source": [
    "y_train = to_categorical(y_train,10)"
   ]
  },
  {
   "cell_type": "code",
   "execution_count": 71,
   "metadata": {},
   "outputs": [],
   "source": [
    "y_test = to_categorical(y_test,10)"
   ]
  },
  {
   "cell_type": "code",
   "execution_count": 72,
   "metadata": {},
   "outputs": [
    {
     "data": {
      "text/plain": [
       "array([0., 0., 0., 0., 0., 0., 0., 0., 1., 0.], dtype=float32)"
      ]
     },
     "execution_count": 72,
     "metadata": {},
     "output_type": "execute_result"
    }
   ],
   "source": [
    "y_train[12345]"
   ]
  },
  {
   "cell_type": "markdown",
   "metadata": {},
   "source": [
    "## 打造神經網路"
   ]
  },
  {
   "cell_type": "code",
   "execution_count": 73,
   "metadata": {},
   "outputs": [],
   "source": [
    "from tensorflow.keras.models import Sequential\n",
    "from tensorflow.keras.layers import Dense\n",
    "from tensorflow.keras.optimizers import SGD"
   ]
  },
  {
   "cell_type": "code",
   "execution_count": 82,
   "metadata": {},
   "outputs": [],
   "source": [
    "model = Sequential()\n",
    "model.add(Dense(100, input_dim=784, activation='relu'))\n",
    "model.add(Dense(100,activation='relu'))\n",
    "model.add(Dense(10,activation='softmax'))\n",
    "model.compile(loss='mse', optimizer=SGD(lr=0.09), metrics=['accuracy'])"
   ]
  },
  {
   "cell_type": "code",
   "execution_count": 88,
   "metadata": {},
   "outputs": [
    {
     "name": "stdout",
     "output_type": "stream",
     "text": [
      "Model: \"sequential_1\"\n",
      "_________________________________________________________________\n",
      "Layer (type)                 Output Shape              Param #   \n",
      "=================================================================\n",
      "dense_3 (Dense)              (None, 100)               78500     \n",
      "_________________________________________________________________\n",
      "dense_4 (Dense)              (None, 100)               10100     \n",
      "_________________________________________________________________\n",
      "dense_5 (Dense)              (None, 10)                1010      \n",
      "=================================================================\n",
      "Total params: 89,610\n",
      "Trainable params: 89,610\n",
      "Non-trainable params: 0\n",
      "_________________________________________________________________\n"
     ]
    }
   ],
   "source": [
    "model.summary()"
   ]
  },
  {
   "cell_type": "markdown",
   "metadata": {},
   "source": [
    "## 訓練"
   ]
  },
  {
   "cell_type": "code",
   "execution_count": 89,
   "metadata": {},
   "outputs": [
    {
     "name": "stdout",
     "output_type": "stream",
     "text": [
      "Train on 60000 samples\n",
      "Epoch 1/50\n",
      "60000/60000 [==============================] - 4s 68us/sample - loss: 0.0181 - accuracy: 0.8781\n",
      "Epoch 2/50\n",
      "60000/60000 [==============================] - 4s 67us/sample - loss: 0.0178 - accuracy: 0.8810\n",
      "Epoch 3/50\n",
      "60000/60000 [==============================] - 4s 67us/sample - loss: 0.0174 - accuracy: 0.8839\n",
      "Epoch 4/50\n",
      "60000/60000 [==============================] - 4s 66us/sample - loss: 0.0171 - accuracy: 0.8858\n",
      "Epoch 5/50\n",
      "60000/60000 [==============================] - 4s 64us/sample - loss: 0.0168 - accuracy: 0.8880\n",
      "Epoch 6/50\n",
      "60000/60000 [==============================] - 4s 64us/sample - loss: 0.0166 - accuracy: 0.8890\n",
      "Epoch 7/50\n",
      "60000/60000 [==============================] - 4s 62us/sample - loss: 0.0164 - accuracy: 0.8899\n",
      "Epoch 8/50\n",
      "60000/60000 [==============================] - 4s 62us/sample - loss: 0.0162 - accuracy: 0.8932\n",
      "Epoch 9/50\n",
      "60000/60000 [==============================] - 4s 67us/sample - loss: 0.0159 - accuracy: 0.8941s\n",
      "Epoch 10/50\n",
      "60000/60000 [==============================] - 5s 83us/sample - loss: 0.0158 - accuracy: 0.8953\n",
      "Epoch 11/50\n",
      "60000/60000 [==============================] - 4s 71us/sample - loss: 0.0156 - accuracy: 0.8961\n",
      "Epoch 12/50\n",
      "60000/60000 [==============================] - 4s 69us/sample - loss: 0.0154 - accuracy: 0.8982\n",
      "Epoch 13/50\n",
      "60000/60000 [==============================] - 4s 72us/sample - loss: 0.0152 - accuracy: 0.8994\n",
      "Epoch 14/50\n",
      "60000/60000 [==============================] - 4s 74us/sample - loss: 0.0150 - accuracy: 0.9004\n",
      "Epoch 15/50\n",
      "60000/60000 [==============================] - 4s 72us/sample - loss: 0.0149 - accuracy: 0.9017\n",
      "Epoch 16/50\n",
      "60000/60000 [==============================] - 4s 72us/sample - loss: 0.0147 - accuracy: 0.9027\n",
      "Epoch 17/50\n",
      "60000/60000 [==============================] - 4s 68us/sample - loss: 0.0145 - accuracy: 0.9048\n",
      "Epoch 18/50\n",
      "60000/60000 [==============================] - 4s 66us/sample - loss: 0.0145 - accuracy: 0.9036\n",
      "Epoch 19/50\n",
      "60000/60000 [==============================] - 4s 63us/sample - loss: 0.0142 - accuracy: 0.9061\n",
      "Epoch 20/50\n",
      "60000/60000 [==============================] - 4s 66us/sample - loss: 0.0141 - accuracy: 0.9077\n",
      "Epoch 21/50\n",
      "60000/60000 [==============================] - 4s 70us/sample - loss: 0.0139 - accuracy: 0.9085s\n",
      "Epoch 22/50\n",
      "60000/60000 [==============================] - 5s 75us/sample - loss: 0.0138 - accuracy: 0.9089\n",
      "Epoch 23/50\n",
      "60000/60000 [==============================] - 4s 68us/sample - loss: 0.0136 - accuracy: 0.9117\n",
      "Epoch 24/50\n",
      "60000/60000 [==============================] - 4s 63us/sample - loss: 0.0135 - accuracy: 0.9118\n",
      "Epoch 25/50\n",
      "60000/60000 [==============================] - 4s 62us/sample - loss: 0.0134 - accuracy: 0.9129\n",
      "Epoch 26/50\n",
      "60000/60000 [==============================] - 4s 63us/sample - loss: 0.0133 - accuracy: 0.9133\n",
      "Epoch 27/50\n",
      "60000/60000 [==============================] - 4s 62us/sample - loss: 0.0131 - accuracy: 0.9146\n",
      "Epoch 28/50\n",
      "60000/60000 [==============================] - 4s 64us/sample - loss: 0.0130 - accuracy: 0.9156\n",
      "Epoch 29/50\n",
      "60000/60000 [==============================] - 4s 64us/sample - loss: 0.0129 - accuracy: 0.9162\n",
      "Epoch 30/50\n",
      "60000/60000 [==============================] - 4s 63us/sample - loss: 0.0128 - accuracy: 0.9171\n",
      "Epoch 31/50\n",
      "60000/60000 [==============================] - 5s 77us/sample - loss: 0.0127 - accuracy: 0.9178\n",
      "Epoch 32/50\n",
      "60000/60000 [==============================] - 4s 68us/sample - loss: 0.0125 - accuracy: 0.9195\n",
      "Epoch 33/50\n",
      "60000/60000 [==============================] - 4s 62us/sample - loss: 0.0124 - accuracy: 0.9196s -\n",
      "Epoch 34/50\n",
      "60000/60000 [==============================] - 4s 64us/sample - loss: 0.0124 - accuracy: 0.9209\n",
      "Epoch 35/50\n",
      "60000/60000 [==============================] - 4s 65us/sample - loss: 0.0122 - accuracy: 0.9211\n",
      "Epoch 36/50\n",
      "60000/60000 [==============================] - 4s 62us/sample - loss: 0.0121 - accuracy: 0.9222\n",
      "Epoch 37/50\n",
      "60000/60000 [==============================] - 4s 63us/sample - loss: 0.0120 - accuracy: 0.9234\n",
      "Epoch 38/50\n",
      "60000/60000 [==============================] - 4s 63us/sample - loss: 0.0119 - accuracy: 0.9236\n",
      "Epoch 39/50\n",
      "60000/60000 [==============================] - 4s 69us/sample - loss: 0.0119 - accuracy: 0.9244\n",
      "Epoch 40/50\n",
      "60000/60000 [==============================] - 4s 65us/sample - loss: 0.0118 - accuracy: 0.9241\n",
      "Epoch 41/50\n",
      "60000/60000 [==============================] - 4s 64us/sample - loss: 0.0116 - accuracy: 0.9257\n",
      "Epoch 42/50\n",
      "60000/60000 [==============================] - 4s 65us/sample - loss: 0.0116 - accuracy: 0.9264\n",
      "Epoch 43/50\n",
      "60000/60000 [==============================] - 4s 64us/sample - loss: 0.0115 - accuracy: 0.9268\n",
      "Epoch 44/50\n",
      "60000/60000 [==============================] - 4s 66us/sample - loss: 0.0114 - accuracy: 0.9277\n",
      "Epoch 45/50\n",
      "60000/60000 [==============================] - 4s 65us/sample - loss: 0.0113 - accuracy: 0.9277\n",
      "Epoch 46/50\n",
      "60000/60000 [==============================] - 4s 64us/sample - loss: 0.0112 - accuracy: 0.9297\n",
      "Epoch 47/50\n",
      "60000/60000 [==============================] - 4s 64us/sample - loss: 0.0111 - accuracy: 0.9296\n",
      "Epoch 48/50\n",
      "60000/60000 [==============================] - 4s 65us/sample - loss: 0.0110 - accuracy: 0.9312\n",
      "Epoch 49/50\n",
      "60000/60000 [==============================] - 4s 67us/sample - loss: 0.0110 - accuracy: 0.9301\n",
      "Epoch 50/50\n",
      "60000/60000 [==============================] - 4s 65us/sample - loss: 0.0109 - accuracy: 0.9310\n"
     ]
    },
    {
     "data": {
      "text/plain": [
       "<tensorflow.python.keras.callbacks.History at 0x141737790>"
      ]
     },
     "execution_count": 89,
     "metadata": {},
     "output_type": "execute_result"
    }
   ],
   "source": [
    "model.fit(x_train,y_train, batch_size=20, epochs=50)"
   ]
  },
  {
   "cell_type": "code",
   "execution_count": 101,
   "metadata": {},
   "outputs": [],
   "source": [
    "result=model.predict_classes(x_test)"
   ]
  },
  {
   "cell_type": "code",
   "execution_count": 109,
   "metadata": {},
   "outputs": [],
   "source": [
    "def show(a):\n",
    "    print(\"神經網路預測是\",class_names[result[a]])\n",
    "    plt.imshow(x_test[a].reshape(28,28),cmap=\"Greys\")"
   ]
  },
  {
   "cell_type": "code",
   "execution_count": 110,
   "metadata": {},
   "outputs": [
    {
     "name": "stdout",
     "output_type": "stream",
     "text": [
      "神經網路預測是 Shirt\n"
     ]
    },
    {
     "data": {
      "image/png": "[encoded data removed]",
      "text/plain": [
       "<Figure size 432x288 with 1 Axes>"
      ]
     },
     "metadata": {
      "needs_background": "light"
     },
     "output_type": "display_data"
    }
   ],
   "source": [
    "show(1000)"
   ]
  },
  {
   "cell_type": "code",
   "execution_count": 111,
   "metadata": {},
   "outputs": [
    {
     "name": "stdout",
     "output_type": "stream",
     "text": [
      "神經網路預測是 T-shirt/top\n"
     ]
    },
    {
     "data": {
      "image/png": "[encoded data removed]",
      "text/plain": [
       "<Figure size 432x288 with 1 Axes>"
      ]
     },
     "metadata": {
      "needs_background": "light"
     },
     "output_type": "display_data"
    }
   ],
   "source": [
    "show(121)"
   ]
  },
  {
   "cell_type": "code",
   "execution_count": 113,
   "metadata": {},
   "outputs": [
    {
     "name": "stdout",
     "output_type": "stream",
     "text": [
      "神經網路預測是 Sandal\n"
     ]
    },
    {
     "data": {
      "image/png": "[encoded data removed]",
      "text/plain": [
       "<Figure size 432x288 with 1 Axes>"
      ]
     },
     "metadata": {
      "needs_background": "light"
     },
     "output_type": "display_data"
    }
   ],
   "source": [
    "show(9999)"
   ]
  },
  {
   "cell_type": "code",
   "execution_count": 114,
   "metadata": {},
   "outputs": [
    {
     "name": "stdout",
     "output_type": "stream",
     "text": [
      "神經網路預測是 Ankle boot\n"
     ]
    },
    {
     "data": {
      "image/png": "[encoded data removed]",
      "text/plain": [
       "<Figure size 432x288 with 1 Axes>"
      ]
     },
     "metadata": {
      "needs_background": "light"
     },
     "output_type": "display_data"
    }
   ],
   "source": [
    "show(9201)"
   ]
  },
  {
   "cell_type": "code",
   "execution_count": null,
   "metadata": {},
   "outputs": [],
   "source": []
  }
 ],
 "metadata": {
  "kernelspec": {
   "display_name": "Python 3",
   "language": "python",
   "name": "python3"
  },
  "language_info": {
   "codemirror_mode": {
    "name": "ipython",
    "version": 3
   },
   "file_extension": ".py",
   "mimetype": "text/x-python",
   "name": "python",
   "nbconvert_exporter": "python",
   "pygments_lexer": "ipython3",
   "version": "3.7.4"
  }
 },
 "nbformat": 4,
 "nbformat_minor": 2
}
