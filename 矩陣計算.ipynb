{
 "cells": [
  {
   "cell_type": "code",
   "execution_count": 10,
   "metadata": {},
   "outputs": [
    {
     "name": "stdout",
     "output_type": "stream",
     "text": [
      "Enter a matrix:\n",
      "3\n",
      "5\n",
      "9\n",
      "0\n",
      "2\n",
      "4\n",
      "4\n",
      "5\n",
      "3\n",
      "Enter another matrix:\n",
      "4\n",
      "3\n",
      "5\n",
      "6\n",
      "3\n",
      "4\n",
      "5\n",
      "3\n",
      "5\n"
     ]
    }
   ],
   "source": [
    "# Matrix Addition: Add two matrices\n",
    "\n",
    "print(\"Enter a matrix:\")\n",
    "m1=[[0,0,0],[0,0,0],[0,0,0]] #First, create a empty matrix\n",
    "for x in range (0,3):\n",
    "    for y in range (0,3):\n",
    "        m1[x][y]=int(input()) #Then the user press enter after each digit\n",
    "print(\"Enter another matrix:\")\n",
    "m2=[[0,0,0],[0,0,0],[0,0,0]] #First, create a empty matrix\n",
    "for x in range (0,3):\n",
    "    for y in range (0,3):\n",
    "        m2[x][y]=int(input()) #Then the user press enter after each digit"
   ]
  },
  {
   "cell_type": "code",
   "execution_count": 11,
   "metadata": {},
   "outputs": [
    {
     "name": "stdout",
     "output_type": "stream",
     "text": [
      "The input matrices are\n",
      "[[3, 5, 9], [0, 2, 4], [4, 5, 3]]\n",
      "[[4, 3, 5], [6, 3, 4], [5, 3, 5]]\n"
     ]
    }
   ],
   "source": [
    "print(\"The input matrices are\")\n",
    "print(m1)\t\t\n",
    "print(m2)\n",
    "result = [[0,0,0],\n",
    "         [0,0,0],\n",
    "         [0,0,0]]"
   ]
  },
  {
   "cell_type": "code",
   "execution_count": 12,
   "metadata": {},
   "outputs": [],
   "source": [
    "# iterate through rows\n",
    "for i in range(len(m1)):\n",
    "   # iterate through columns\n",
    "   for j in range(len(m1[0])):\n",
    "       result[i][j] = m1[i][j] + m2[i][j]"
   ]
  },
  {
   "cell_type": "code",
   "execution_count": 13,
   "metadata": {},
   "outputs": [
    {
     "name": "stdout",
     "output_type": "stream",
     "text": [
      "The result matrix is\n",
      "[7, 8, 14]\n",
      "[6, 5, 8]\n",
      "[9, 8, 8]\n"
     ]
    }
   ],
   "source": [
    "print(\"The result matrix is\")   \n",
    "for r in result:\n",
    "   print(r)"
   ]
  },
  {
   "cell_type": "code",
   "execution_count": null,
   "metadata": {},
   "outputs": [],
   "source": []
  }
 ],
 "metadata": {
  "kernelspec": {
   "display_name": "Python 3",
   "language": "python",
   "name": "python3"
  },
  "language_info": {
   "codemirror_mode": {
    "name": "ipython",
    "version": 3
   },
   "file_extension": ".py",
   "mimetype": "text/x-python",
   "name": "python",
   "nbconvert_exporter": "python",
   "pygments_lexer": "ipython3",
   "version": "3.7.4"
  }
 },
 "nbformat": 4,
 "nbformat_minor": 2
}
