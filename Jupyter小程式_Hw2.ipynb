{
 "cells": [
  {
   "cell_type": "markdown",
   "metadata": {},
   "source": [
    "## 函數的預設值為可變物件"
   ]
  },
  {
   "cell_type": "code",
   "execution_count": 2,
   "metadata": {},
   "outputs": [],
   "source": [
    "def append_item(item, lis=[]):\n",
    "    lis.append(item)\n",
    "    return lis"
   ]
  },
  {
   "cell_type": "code",
   "execution_count": 3,
   "metadata": {},
   "outputs": [
    {
     "name": "stdout",
     "output_type": "stream",
     "text": [
      "========append_item=========\n",
      "['apple']\n",
      "['apple', 'orange']\n",
      "['apple', 'orange', 'peach']\n"
     ]
    }
   ],
   "source": [
    "print('========append_item=========')\n",
    "print(append_item('apple'))\n",
    "print(append_item('orange'))\n",
    "print(append_item('peach'))"
   ]
  },
  {
   "cell_type": "code",
   "execution_count": 4,
   "metadata": {},
   "outputs": [],
   "source": [
    "def append_item_v2(item,lis=[]):\n",
    "    lis.append(item)\n",
    "    return lis"
   ]
  },
  {
   "cell_type": "code",
   "execution_count": 5,
   "metadata": {},
   "outputs": [
    {
     "name": "stdout",
     "output_type": "stream",
     "text": [
      "========append_item_v2=========\n",
      "['apple']\n",
      "['banana']\n",
      "['banana', 'watermelon']\n",
      "['apple', 'orange']\n",
      "['apple', 'orange', 'peach']\n"
     ]
    }
   ],
   "source": [
    "print('========append_item_v2=========')\n",
    "lis = []\n",
    "print(append_item_v2('apple',lis))\n",
    "print(append_item_v2('banana'))\n",
    "print(append_item_v2('watermelon'))\n",
    "print(append_item_v2('orange',lis))\n",
    "print(append_item_v2('peach',lis))"
   ]
  },
  {
   "cell_type": "code",
   "execution_count": 6,
   "metadata": {},
   "outputs": [],
   "source": [
    "def append_item_v3(item):\n",
    "    lis=[]\n",
    "    lis.append(item)\n",
    "    return lis"
   ]
  },
  {
   "cell_type": "code",
   "execution_count": 7,
   "metadata": {},
   "outputs": [
    {
     "name": "stdout",
     "output_type": "stream",
     "text": [
      "========append_item_v3=========\n",
      "['apple']\n",
      "['orange']\n",
      "['peach']\n"
     ]
    }
   ],
   "source": [
    "print('========append_item_v3=========')\n",
    "print(append_item_v3('apple'))\n",
    "print(append_item_v3('orange'))\n",
    "print(append_item_v3('peach'))"
   ]
  },
  {
   "cell_type": "markdown",
   "metadata": {},
   "source": [
    "## 可對每個成員打招呼的函數"
   ]
  },
  {
   "cell_type": "code",
   "execution_count": 11,
   "metadata": {
    "scrolled": true
   },
   "outputs": [],
   "source": [
    "def hello(*names):\n",
    "    for n in names: print(\"Hello, %s.\"%n)"
   ]
  },
  {
   "cell_type": "code",
   "execution_count": 12,
   "metadata": {},
   "outputs": [
    {
     "name": "stdout",
     "output_type": "stream",
     "text": [
      "Hello, Tom.\n",
      "Hello, Peter.\n",
      "Hello, Bob.\n",
      "Hello, Rain.\n"
     ]
    }
   ],
   "source": [
    "hello(\"Tom\",\"Peter\",\"Bob\",\"Rain\")"
   ]
  },
  {
   "cell_type": "code",
   "execution_count": 13,
   "metadata": {},
   "outputs": [],
   "source": [
    "#傳入多個成員資訊 姓名=年齡(數量可以動態增減)當引數\n",
    "#對每個成員打招呼\n",
    "def hello(**names):\n",
    "    for n in names:\n",
    "        print(\"Hello %s, you're %d years old\"%(n,names[n]))"
   ]
  },
  {
   "cell_type": "code",
   "execution_count": 14,
   "metadata": {},
   "outputs": [
    {
     "name": "stdout",
     "output_type": "stream",
     "text": [
      "Hello John, you're 25 years old\n",
      "Hello Tom, you're 20 years old\n",
      "Hello Bob, you're 33 years old\n",
      "Hello Tony, you're 18 years old\n"
     ]
    }
   ],
   "source": [
    "hello(John=25, Tom=20, Bob=33, Tony=18)"
   ]
  },
  {
   "cell_type": "code",
   "execution_count": null,
   "metadata": {},
   "outputs": [],
   "source": []
  }
 ],
 "metadata": {
  "kernelspec": {
   "display_name": "Python 3",
   "language": "python",
   "name": "python3"
  },
  "language_info": {
   "codemirror_mode": {
    "name": "ipython",
    "version": 3
   },
   "file_extension": ".py",
   "mimetype": "text/x-python",
   "name": "python",
   "nbconvert_exporter": "python",
   "pygments_lexer": "ipython3",
   "version": "3.7.4"
  }
 },
 "nbformat": 4,
 "nbformat_minor": 2
}
