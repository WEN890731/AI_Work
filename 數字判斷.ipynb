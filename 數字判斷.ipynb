{
 "cells": [
  {
   "cell_type": "code",
   "execution_count": 1,
   "metadata": {},
   "outputs": [
    {
     "name": "stdout",
     "output_type": "stream",
     "text": [
      "What is the result of two to the power of ten (2**10):\n",
      "512\n",
      "no\n"
     ]
    }
   ],
   "source": [
    "#判斷2的10次方\n",
    "print(\"What is the result of two to the power of ten (2**10):\")\n",
    "num = input()\n",
    "if int(num) == 2**10:\n",
    "    print('yes')\n",
    "else:\n",
    "    print('no')"
   ]
  },
  {
   "cell_type": "code",
   "execution_count": 2,
   "metadata": {},
   "outputs": [
    {
     "name": "stdout",
     "output_type": "stream",
     "text": [
      "Please input a number:\n",
      "4\n",
      "4 is even\n"
     ]
    }
   ],
   "source": [
    "#奇數偶數判斷\n",
    "print(\"Please input a number:\")\n",
    "num = input()\n",
    "if int(num) % 2 == 0:\n",
    "    print(num,'is even')\n",
    "else:\n",
    "    print(num,'is odd')"
   ]
  },
  {
   "cell_type": "code",
   "execution_count": null,
   "metadata": {},
   "outputs": [],
   "source": []
  }
 ],
 "metadata": {
  "kernelspec": {
   "display_name": "Python 3",
   "language": "python",
   "name": "python3"
  },
  "language_info": {
   "codemirror_mode": {
    "name": "ipython",
    "version": 3
   },
   "file_extension": ".py",
   "mimetype": "text/x-python",
   "name": "python",
   "nbconvert_exporter": "python",
   "pygments_lexer": "ipython3",
   "version": "3.7.4"
  }
 },
 "nbformat": 4,
 "nbformat_minor": 2
}
