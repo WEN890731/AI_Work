{
 "cells": [
  {
   "cell_type": "code",
   "execution_count": 3,
   "metadata": {},
   "outputs": [
    {
     "name": "stdout",
     "output_type": "stream",
     "text": [
      "Will you go out today night?\n"
     ]
    }
   ],
   "source": [
    "print(\"Will you go out today night?\")"
   ]
  },
  {
   "cell_type": "code",
   "execution_count": 4,
   "metadata": {},
   "outputs": [
    {
     "name": "stdout",
     "output_type": "stream",
     "text": [
      "no\n",
      "Okay.\n"
     ]
    }
   ],
   "source": [
    "willGoOut = input()\n",
    "if willGoOut == \"yes\":\n",
    "   print(\"Could you please help me send a mail?\")\n",
    "   willSend = input()\n",
    "   if willSend == \"yes\":\n",
    "      print(\"Thank you!\")\n",
    "   else:\n",
    "        print(\"I guess you are too busy today.\")\n",
    "else:\n",
    "    print(\"Okay.\")"
   ]
  },
  {
   "cell_type": "code",
   "execution_count": null,
   "metadata": {},
   "outputs": [],
   "source": []
  }
 ],
 "metadata": {
  "kernelspec": {
   "display_name": "Python 3",
   "language": "python",
   "name": "python3"
  },
  "language_info": {
   "codemirror_mode": {
    "name": "ipython",
    "version": 3
   },
   "file_extension": ".py",
   "mimetype": "text/x-python",
   "name": "python",
   "nbconvert_exporter": "python",
   "pygments_lexer": "ipython3",
   "version": "3.7.4"
  }
 },
 "nbformat": 4,
 "nbformat_minor": 2
}
