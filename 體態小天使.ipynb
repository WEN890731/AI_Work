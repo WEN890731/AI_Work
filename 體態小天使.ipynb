{
 "cells": [
  {
   "cell_type": "code",
   "execution_count": 8,
   "metadata": {},
   "outputs": [],
   "source": [
    "%matplotlib inline\n",
    "import numpy as np\n",
    "import pandas as pd\n",
    "import matplotlib.pyplot as plt"
   ]
  },
  {
   "cell_type": "code",
   "execution_count": 19,
   "metadata": {},
   "outputs": [],
   "source": [
    "def BMI(x,y):\n",
    "    bmi=0\n",
    "    if(y>5):\n",
    "        bmi=np.round(x/((y/100)**2))\n",
    "        print(\"BMI is:\")\n",
    "        print(bmi)\n",
    "        if(bmi<16):\n",
    "            print(\"老天，你已經瘦出新高度了😱\")\n",
    "        elif(bmi>=16 and bmi<18):\n",
    "            print(\"親愛的，你的身材在中國是萬人迷呦！😳\")\n",
    "        elif(bmi>=8 and bmi<21):\n",
    "            print(\"親愛的，你身材在義大利是萬人迷呦！😉\")\n",
    "        elif(bmi>=21 and bmi<23):\n",
    "            print(\"親愛的，你身材在塞爾維亞是萬人迷呦！😎\")\n",
    "        elif(bmi>=23 and bmi<25):\n",
    "            print(\"親愛的，你身材在西班牙是萬人迷呦！😍\")\n",
    "        elif(bmi>=25 and bmi<30):\n",
    "            print(\"哇！很標準的身材呢～要繼續保持呦！😏\")\n",
    "        else:print(\"親愛的，我們一起去運動吧～😅\")\n",
    "    else: \n",
    "        bmi=np.round(x/(y**2))\n",
    "        print(\"BMI is:\")\n",
    "        print(bmi)\n",
    "        if(bmi<16):\n",
    "            print(\"老天，你已經瘦出新高度了😱\")\n",
    "        elif(bmi>=16 and bmi<18):\n",
    "            print(\"親愛的，你的身材在中國是萬人迷呦！😳\")\n",
    "        elif(bmi>=18 and bmi<21):\n",
    "            print(\"親愛的，你身材在義大利是萬人迷呦！😉\")\n",
    "        elif(bmi>=21 and bmi<23):\n",
    "            print(\"親愛的，你身材在塞爾維亞是萬人迷呦！😎\")\n",
    "        elif(bmi>=23 and bmi<25):\n",
    "            print(\"親愛的，你身材在西班牙是萬人迷呦！😍\")\n",
    "        elif(bmi>=25 and bmi<30):\n",
    "            print(\"哇！很標準的身材呢～要繼續保持呦！😏\")\n",
    "        else:print(\"親愛的，我們一起去運動吧～😅\")\n"
   ]
  },
  {
   "cell_type": "code",
   "execution_count": 20,
   "metadata": {},
   "outputs": [
    {
     "name": "stdout",
     "output_type": "stream",
     "text": [
      "Your weight\n",
      "48\n"
     ]
    }
   ],
   "source": [
    "print(\"Your weight\")\n",
    "weight=int(input())"
   ]
  },
  {
   "cell_type": "code",
   "execution_count": null,
   "metadata": {},
   "outputs": [
    {
     "name": "stdout",
     "output_type": "stream",
     "text": [
      "Your high\n"
     ]
    }
   ],
   "source": [
    "print(\"Your high\")\n",
    "high=int(input())\n",
    "BMI(weight,high)"
   ]
  },
  {
   "cell_type": "code",
   "execution_count": null,
   "metadata": {},
   "outputs": [],
   "source": []
  }
 ],
 "metadata": {
  "kernelspec": {
   "display_name": "Python 3",
   "language": "python",
   "name": "python3"
  },
  "language_info": {
   "codemirror_mode": {
    "name": "ipython",
    "version": 3
   },
   "file_extension": ".py",
   "mimetype": "text/x-python",
   "name": "python",
   "nbconvert_exporter": "python",
   "pygments_lexer": "ipython3",
   "version": "3.7.4"
  }
 },
 "nbformat": 4,
 "nbformat_minor": 2
}
